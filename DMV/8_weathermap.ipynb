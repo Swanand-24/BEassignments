{
 "cells": [
  {
   "cell_type": "markdown",
   "id": "e4f139ba",
   "metadata": {},
   "source": [
    "Swanand Wirkar (32574) \n",
    "Problem Statement: Analyzing Weather Data from OpenWeatherMap API"
   ]
  },
  {
   "cell_type": "markdown",
   "id": "505c985f",
   "metadata": {},
   "source": [
    "2. Interact with the OpenWeatherMap API using the API key to retrieve weather data for\n",
    "a specific location"
   ]
  },
  {
   "cell_type": "code",
   "execution_count": 2,
   "id": "895deaca",
   "metadata": {},
   "outputs": [],
   "source": [
    "import requests"
   ]
  },
  {
   "cell_type": "code",
   "execution_count": 3,
   "id": "c78e59e5",
   "metadata": {},
   "outputs": [],
   "source": [
    "BASE_URL = \"http://api.openweathermap.org/data/2.5/weather?\"\n",
    "API_KEY = open('api_key', 'r').read()\n",
    "CITY = \"London\"\n",
    "\n",
    "url = BASE_URL + \"&appid=\" + API_KEY + \"&q=\" + CITY"
   ]
  },
  {
   "cell_type": "code",
   "execution_count": 4,
   "id": "480a9a41",
   "metadata": {},
   "outputs": [],
   "source": [
    "response = requests.get(url).json()"
   ]
  },
  {
   "cell_type": "code",
   "execution_count": 5,
   "id": "11d9c7fb",
   "metadata": {},
   "outputs": [
    {
     "name": "stdout",
     "output_type": "stream",
     "text": [
      "{'coord': {'lon': -0.1257, 'lat': 51.5085}, 'weather': [{'id': 803, 'main': 'Clouds', 'description': 'broken clouds', 'icon': '04n'}], 'base': 'stations', 'main': {'temp': 288.57, 'feels_like': 288.57, 'temp_min': 287.01, 'temp_max': 289.7, 'pressure': 1022, 'humidity': 92}, 'visibility': 10000, 'wind': {'speed': 3.6, 'deg': 250}, 'clouds': {'all': 75}, 'dt': 1692588767, 'sys': {'type': 2, 'id': 2075535, 'country': 'GB', 'sunrise': 1692593702, 'sunset': 1692645170}, 'timezone': 3600, 'id': 2643743, 'name': 'London', 'cod': 200}\n"
     ]
    }
   ],
   "source": [
    "print(response)"
   ]
  },
  {
   "cell_type": "markdown",
   "id": "25dc095f",
   "metadata": {},
   "source": [
    "3.Extract relevant weather attributes such as temperature, humidity, wind speed, and\n",
    "precipitation from the API response"
   ]
  },
  {
   "cell_type": "code",
   "execution_count": 6,
   "id": "b3131354",
   "metadata": {},
   "outputs": [
    {
     "name": "stdout",
     "output_type": "stream",
     "text": [
      "Temperature: 288.57 Kelvin\n",
      "Humidity: 92%\n",
      "Wind Speed: 3.6 m/s\n",
      "Precipitation (last 1 hour): 0 mm\n"
     ]
    }
   ],
   "source": [
    "if response['cod'] == 200:\n",
    "    # Extract relevant weather attributes\n",
    "    temperature = response['main']['temp']\n",
    "    humidity = response['main']['humidity']\n",
    "    wind_speed = response['wind']['speed']\n",
    "    \n",
    "    # Check if 'rain' key is present (for precipitation)\n",
    "    if 'rain' in response:\n",
    "        precipitation = response['rain']['1h']  \n",
    "    else:\n",
    "        precipitation = 0  \n",
    "\n",
    "    \n",
    "    print(f'Temperature: {temperature} Kelvin')\n",
    "    print(f'Humidity: {humidity}%')\n",
    "    print(f'Wind Speed: {wind_speed} m/s')\n",
    "    print(f'Precipitation (last 1 hour): {precipitation} mm')\n",
    "else:\n",
    "    print('Error:', response['message'])"
   ]
  },
  {
   "cell_type": "markdown",
   "id": "5a9311e3",
   "metadata": {},
   "source": [
    "4.Clean and preprocess the retrieved data, handling missing values or inconsistent\n",
    "formats."
   ]
  },
  {
   "cell_type": "code",
   "execution_count": 36,
   "id": "bd7f7b34",
   "metadata": {},
   "outputs": [
    {
     "name": "stdout",
     "output_type": "stream",
     "text": [
      "Preprocessed Weather Data:\n",
      "Temperature: 298.6\n",
      "Humidity: 58\n",
      "Wind_speed: 4.12\n",
      "Precipitation: 0\n"
     ]
    }
   ],
   "source": [
    "def get_weather_data(city):\n",
    "    BASE_URL = \"http://api.openweathermap.org/data/2.5/weather?\"\n",
    "    API_KEY = open('api_key', 'r').read()\n",
    "\n",
    "    url = BASE_URL + \"appid=\" + API_KEY + \"&q=\" + city\n",
    "    response = requests.get(url).json()\n",
    "    return response\n",
    "\n",
    "def clean_and_preprocess(data):\n",
    "    cleaned_data = {}\n",
    "    \n",
    "    if data['cod'] == 200:\n",
    "        # Extract and clean relevant weather attributes\n",
    "        cleaned_data['temperature'] = data['main'].get('temp', None)\n",
    "        cleaned_data['humidity'] = data['main'].get('humidity', None)\n",
    "        cleaned_data['wind_speed'] = data['wind'].get('speed', None)\n",
    "        \n",
    "        # Check if 'rain' key is present (for precipitation)\n",
    "        if 'rain' in data:\n",
    "            cleaned_data['precipitation'] = data['rain'].get('1h', 0)  \n",
    "        else:\n",
    "            cleaned_data['precipitation'] = 0  \n",
    "    else:\n",
    "        print('Error:', data.get('message', 'Unknown error'))\n",
    "\n",
    "    return cleaned_data\n",
    "\n",
    "def main():\n",
    "    CITY = \"London\"\n",
    "    \n",
    "    # Get raw weather data\n",
    "    raw_data = get_weather_data(CITY)\n",
    "    \n",
    "    # Clean and preprocess the data\n",
    "    preprocessed_data = clean_and_preprocess(raw_data)\n",
    "    \n",
    "    # Print preprocessed data\n",
    "    if preprocessed_data:\n",
    "        print('Preprocessed Weather Data:')\n",
    "        for attribute, value in preprocessed_data.items():\n",
    "            print(f'{attribute.capitalize()}: {value}')\n",
    "\n",
    "if __name__ == \"__main__\":\n",
    "    main()"
   ]
  },
  {
   "cell_type": "markdown",
   "id": "12a3f3a0",
   "metadata": {},
   "source": [
    "5.Perform data modeling to analyze weather patterns, such as calculating average\n",
    "temperature, maximum/minimum values, or trends over time."
   ]
  },
  {
   "cell_type": "code",
   "execution_count": 10,
   "id": "6d33c06e",
   "metadata": {},
   "outputs": [
    {
     "name": "stdout",
     "output_type": "stream",
     "text": [
      "Weather Pattern Analysis:\n",
      "Average temperature: 288.58 Kelvin\n",
      "Max temperature: 288.58 Kelvin\n",
      "Min temperature: 288.58 Kelvin\n"
     ]
    }
   ],
   "source": [
    "import requests\n",
    "from datetime import datetime\n",
    "\n",
    "def get_weather_data(city):\n",
    "    BASE_URL = \"http://api.openweathermap.org/data/2.5/weather?\"\n",
    "    API_KEY = open('api_key', 'r').read()\n",
    "\n",
    "    url = BASE_URL + \"appid=\" + API_KEY + \"&q=\" + city\n",
    "    response = requests.get(url).json()\n",
    "    return response\n",
    "\n",
    "def clean_and_preprocess(data):\n",
    "    cleaned_data = {}\n",
    "    \n",
    "    if data['cod'] == 200:\n",
    "        # Extract and clean relevant weather attributes\n",
    "        cleaned_data['temperature'] = data['main'].get('temp', None)\n",
    "        \n",
    "        \n",
    "        # Check if 'rain' key is present (for precipitation)\n",
    "        if 'rain' in data:\n",
    "            cleaned_data['precipitation'] = data['rain'].get('1h', 0)  # Precipitation in the last 1 hour\n",
    "        else:\n",
    "            cleaned_data['precipitation'] = 0  # No recent precipitation\n",
    "    else:\n",
    "        print('Error:', data.get('message', 'Unknown error'))\n",
    "\n",
    "    return cleaned_data\n",
    "\n",
    "def analyze_weather_patterns(data_list):\n",
    "    total_temp = 0\n",
    "    max_temp = float('-inf')\n",
    "    min_temp = float('inf')\n",
    "    \n",
    "\n",
    "    for data in data_list:\n",
    "        total_temp += data.get('temperature', 0)\n",
    "        max_temp = max(max_temp, data.get('temperature', float('-inf')))\n",
    "        min_temp = min(min_temp, data.get('temperature', float('inf')))\n",
    "        \n",
    "    \n",
    "    num_entries = len(data_list)\n",
    "    average_temp = total_temp / num_entries\n",
    "    \n",
    "\n",
    "    return {\n",
    "        'average_temperature': average_temp,\n",
    "        'max_temperature': max_temp,\n",
    "        'min_temperature': min_temp,\n",
    "        \n",
    "    }\n",
    "\n",
    "def main():\n",
    "    CITY = \"London\"\n",
    "    NUM_DAYS = 5  # Number of days to analyze\n",
    "\n",
    "    data_list = []\n",
    "    for _ in range(NUM_DAYS):\n",
    "        raw_data = get_weather_data(CITY)\n",
    "        preprocessed_data = clean_and_preprocess(raw_data)\n",
    "        if preprocessed_data:\n",
    "            data_list.append(preprocessed_data)\n",
    "\n",
    "    if data_list:\n",
    "        analysis_results = analyze_weather_patterns(data_list)\n",
    "        print('Weather Pattern Analysis:')\n",
    "        for attribute, value in analysis_results.items():\n",
    "            if 'temperature' in attribute:\n",
    "                unit = 'Kelvin'\n",
    "            \n",
    "            else:\n",
    "                unit = '%'\n",
    "            print(f'{attribute.replace(\"_\", \" \").capitalize()}: {value} {unit}')\n",
    "\n",
    "if __name__ == \"__main__\":\n",
    "    main()\n"
   ]
  },
  {
   "cell_type": "markdown",
   "id": "e75db30f",
   "metadata": {},
   "source": [
    "6.Visualize the weather data using appropriate plots, such as line charts, bar plots, or\n",
    "scatter plots, to represent temperature changes, precipitation levels, or wind speed\n",
    "variations"
   ]
  },
  {
   "cell_type": "code",
   "execution_count": 19,
   "id": "7475a1c1",
   "metadata": {},
   "outputs": [
    {
     "data": {
      "image/png": "[encoded data removed]",
      "text/plain": [
       "<Figure size 1000x600 with 1 Axes>"
      ]
     },
     "metadata": {},
     "output_type": "display_data"
    },
    {
     "data": {
      "image/png": "[encoded data removed]",
      "text/plain": [
       "<Figure size 1000x600 with 1 Axes>"
      ]
     },
     "metadata": {},
     "output_type": "display_data"
    },
    {
     "data": {
      "image/png": "[encoded data removed]",
      "text/plain": [
       "<Figure size 1000x600 with 1 Axes>"
      ]
     },
     "metadata": {},
     "output_type": "display_data"
    }
   ],
   "source": [
    "import requests\n",
    "import matplotlib.pyplot as plt\n",
    "\n",
    "def get_weather_data(city):\n",
    "    BASE_URL = \"http://api.openweathermap.org/data/2.5/weather?\"\n",
    "    API_KEY = open('api_key', 'r').read()\n",
    "\n",
    "    url = BASE_URL + \"appid=\" + API_KEY + \"&q=\" + city\n",
    "    response = requests.get(url).json()\n",
    "    return response\n",
    "\n",
    "def clean_and_preprocess(data):\n",
    "    cleaned_data = {}\n",
    "    \n",
    "    if data['cod'] == 200:\n",
    "        # Extract and clean relevant weather attributes\n",
    "        cleaned_data['temperature'] = data['main'].get('temp', None)\n",
    "        cleaned_data['precipitation'] = data.get('rain', {}).get('1h', 0)\n",
    "        cleaned_data['wind_speed'] = data['wind'].get('speed', None)\n",
    "    else:\n",
    "        print('Error:', data.get('message', 'Unknown error'))\n",
    "\n",
    "    return cleaned_data\n",
    "\n",
    "def main():\n",
    "    CITY = \"Pune\"\n",
    "    NUM_HOURS = 24  # Number of hours to analyze\n",
    "\n",
    "    data_list = []\n",
    "    for _ in range(NUM_HOURS):\n",
    "        raw_data = get_weather_data(CITY)\n",
    "        preprocessed_data = clean_and_preprocess(raw_data)\n",
    "        if preprocessed_data:\n",
    "            data_list.append(preprocessed_data)\n",
    "\n",
    "    if data_list:\n",
    "        hours = [i+1 for i in range(NUM_HOURS)]\n",
    "        temperatures = [data.get('temperature', 0) for data in data_list]\n",
    "        precipitation = [data.get('precipitation', 0) for data in data_list]\n",
    "        wind_speed = [data.get('wind_speed', 0) for data in data_list]\n",
    "        \n",
    "        # Plot temperature changes\n",
    "        plt.figure(figsize=(10, 6))\n",
    "        plt.plot(hours, temperatures, marker='o')\n",
    "        plt.title('Temperature Changes Over 24 Hours')\n",
    "        plt.xlabel('Hour')\n",
    "        plt.ylabel('Temperature (K)')\n",
    "        plt.grid(True)\n",
    "        plt.show()\n",
    "\n",
    "        # Plot precipitation levels\n",
    "        plt.figure(figsize=(10, 6))\n",
    "        plt.plot(hours, precipitation, marker='o', color='r')\n",
    "        plt.title('Precipitation Levels Over 24 Hours')\n",
    "        plt.xlabel('Hour')\n",
    "        plt.ylabel('Precipitation (mm)')\n",
    "        plt.grid(True)\n",
    "        plt.show()\n",
    "\n",
    "        # Plot wind speed variations\n",
    "        plt.figure(figsize=(10, 6))\n",
    "        plt.plot(hours, wind_speed, marker='o', color='g')\n",
    "        plt.title('Wind Speed Variations Over 24 Hours')\n",
    "        plt.xlabel('Hour')\n",
    "        plt.ylabel('Wind Speed (m/s)')\n",
    "        plt.grid(True)\n",
    "        plt.show()\n",
    "\n",
    "if __name__ == \"__main__\":\n",
    "    main()\n"
   ]
  },
  {
   "cell_type": "markdown",
   "id": "b70d43db",
   "metadata": {},
   "source": [
    "7.Apply data aggregation techniques to summarize weather statistics by specific time\n",
    "periods"
   ]
  },
  {
   "cell_type": "code",
   "execution_count": 2,
   "id": "b5f660af",
   "metadata": {},
   "outputs": [
    {
     "name": "stdout",
     "output_type": "stream",
     "text": [
      "Summary Statistics:\n",
      "Average temperature: 300.45000000000016 Kelvin\n",
      "Average humidity: 67.0 %\n",
      "Average wind speed: 4.25 m/s\n"
     ]
    }
   ],
   "source": [
    "import requests\n",
    "\n",
    "def get_weather_data(city):\n",
    "    BASE_URL = \"http://api.openweathermap.org/data/2.5/weather?\"\n",
    "    API_KEY = open('api_key', 'r').read()\n",
    "\n",
    "    url = BASE_URL + \"appid=\" + API_KEY + \"&q=\" + city\n",
    "    response = requests.get(url).json()\n",
    "    return response\n",
    "\n",
    "def clean_and_preprocess(data):\n",
    "    cleaned_data = {}\n",
    "    \n",
    "    if data['cod'] == 200:\n",
    "        cleaned_data['temperature'] = data['main'].get('temp', None)\n",
    "        cleaned_data['humidity'] = data['main'].get('humidity', None)\n",
    "        cleaned_data['wind_speed'] = data['wind'].get('speed', None)\n",
    "    else:\n",
    "        print('Error:', data.get('message', 'Unknown error'))\n",
    "\n",
    "    return cleaned_data\n",
    "\n",
    "def aggregate_weather_data(data_list):\n",
    "    aggregated_data = {\n",
    "        'temperature': [],\n",
    "        'humidity': [],\n",
    "        'wind_speed': []\n",
    "    }\n",
    "    \n",
    "    for data in data_list:\n",
    "        aggregated_data['temperature'].append(data.get('temperature', 0))\n",
    "        aggregated_data['humidity'].append(data.get('humidity', 0))\n",
    "        aggregated_data['wind_speed'].append(data.get('wind_speed', 0))\n",
    "    \n",
    "    return aggregated_data\n",
    "\n",
    "def main():\n",
    "    CITY = \"Pune\"\n",
    "    NUM_DAYS = 5  # Number of days to analyze\n",
    "    HOURS_PER_DAY = 24\n",
    "    \n",
    "    data_list = []\n",
    "    for _ in range(NUM_DAYS * HOURS_PER_DAY):\n",
    "        raw_data = get_weather_data(CITY)\n",
    "        preprocessed_data = clean_and_preprocess(raw_data)\n",
    "        if preprocessed_data:\n",
    "            data_list.append(preprocessed_data)\n",
    "\n",
    "    if data_list:\n",
    "        # Aggregate weather data\n",
    "        aggregated_data = aggregate_weather_data(data_list)\n",
    "        \n",
    "        # Calculate summary statistics\n",
    "        summary_statistics = {\n",
    "            'average_temperature': sum(aggregated_data['temperature']) / len(aggregated_data['temperature']),\n",
    "            'average_humidity': sum(aggregated_data['humidity']) / len(aggregated_data['humidity']),\n",
    "            'average_wind_speed': sum(aggregated_data['wind_speed']) / len(aggregated_data['wind_speed'])\n",
    "        }\n",
    "        \n",
    "        # Print summary statistics\n",
    "        print('Summary Statistics:')\n",
    "        for attribute, value in summary_statistics.items():\n",
    "            if 'temperature' in attribute:\n",
    "                unit = 'Kelvin'\n",
    "            elif 'wind_speed' in attribute:\n",
    "                unit = 'm/s'\n",
    "            else:\n",
    "                unit = '%'\n",
    "            print(f'{attribute.replace(\"_\", \" \").capitalize()}: {value} {unit}')\n",
    "\n",
    "if __name__ == \"__main__\":\n",
    "    main()\n"
   ]
  },
  {
   "cell_type": "markdown",
   "id": "62249f59",
   "metadata": {},
   "source": [
    "8. Incorporate geographical information, if available, to create maps or geospatial\n",
    "visualizations representing weather patterns across different locations"
   ]
  },
  {
   "cell_type": "code",
   "execution_count": 6,
   "id": "4cc0f195",
   "metadata": {},
   "outputs": [
    {
     "name": "stdout",
     "output_type": "stream",
     "text": [
      "Geospatial visualization saved as \"weather_map1.html\"\n"
     ]
    }
   ],
   "source": [
    "import requests\n",
    "import folium\n",
    "from datetime import datetime\n",
    "\n",
    "def get_weather_data(city):\n",
    "    BASE_URL = \"http://api.openweathermap.org/data/2.5/weather?\"\n",
    "    API_KEY = open('api_key', 'r').read()\n",
    "\n",
    "    url = BASE_URL + \"appid=\" + API_KEY + \"&q=\" + city\n",
    "    response = requests.get(url).json()\n",
    "    return response\n",
    "\n",
    "def clean_and_preprocess(data):\n",
    "    cleaned_data = {}\n",
    "    \n",
    "    if data['cod'] == 200:\n",
    "        # Extract and clean relevant weather attributes\n",
    "        cleaned_data['temperature'] = data['main'].get('temp', None)\n",
    "        cleaned_data['humidity'] = data['main'].get('humidity', None)\n",
    "        cleaned_data['wind_speed'] = data['wind'].get('speed', None)\n",
    "        cleaned_data['latitude'] = data['coord'].get('lat', None)\n",
    "        cleaned_data['longitude'] = data['coord'].get('lon', None)\n",
    "    else:\n",
    "        print('Error:', data.get('message', 'Unknown error'))\n",
    "\n",
    "    return cleaned_data\n",
    "\n",
    "def visualize_geospatial(data_list):\n",
    "    map_center = [data_list[0]['latitude'], data_list[0]['longitude']]\n",
    "    weather_map = folium.Map(location=map_center, zoom_start=4)\n",
    "\n",
    "    for data in data_list:\n",
    "        temperature = data.get('temperature', 0)\n",
    "        humidity = data.get('humidity', 0)\n",
    "        wind_speed = data.get('wind_speed', 0)\n",
    "        latitude = data.get('latitude', 0)\n",
    "        longitude = data.get('longitude', 0)\n",
    "        \n",
    "        popup_html = f'Temperature: {temperature} K'\"\\n\"\n",
    "        popup_html += f'Humidity: {humidity}%' \"\\n\"\n",
    "        popup_html += f'Wind Speed: {wind_speed} m/s'\"\\n\"\n",
    "\n",
    "        folium.Marker([latitude, longitude], popup=folium.Popup(popup_html, parse_html=True)).add_to(weather_map)\n",
    "\n",
    "    weather_map.save('weather_map1.html')\n",
    "    print('Geospatial visualization saved as \"weather_map1.html\"')\n",
    "\n",
    "def main():\n",
    "    CITIES = [\"London\", \"New York\", \"Tokyo\",\"Pune\"]\n",
    "    NUM_HOURS = 4  # Number of hours to analyze\n",
    "\n",
    "    data_list = []\n",
    "    for city in CITIES:\n",
    "        for _ in range(NUM_HOURS):\n",
    "            raw_data = get_weather_data(city)\n",
    "            preprocessed_data = clean_and_preprocess(raw_data)\n",
    "            if preprocessed_data:\n",
    "                data_list.append(preprocessed_data)\n",
    "\n",
    "    if data_list:\n",
    "        # Visualize geospatial map\n",
    "        visualize_geospatial(data_list)\n",
    "\n",
    "if __name__ == \"__main__\":\n",
    "    main()\n"
   ]
  },
  {
   "cell_type": "markdown",
   "id": "e16f6088",
   "metadata": {},
   "source": [
    "9. Explore and visualize relationships between weather attributes, such as temperature\n",
    "and humidity, using correlation plots or heatmaps."
   ]
  },
  {
   "cell_type": "code",
   "execution_count": 16,
   "id": "9a7f65b4",
   "metadata": {},
   "outputs": [
    {
     "data": {
      "image/png": "[encoded data removed]",
      "text/plain": [
       "<Figure size 800x600 with 1 Axes>"
      ]
     },
     "metadata": {},
     "output_type": "display_data"
    }
   ],
   "source": [
    "import requests\n",
    "import numpy as np\n",
    "import matplotlib.pyplot as plt\n",
    "import seaborn as sns\n",
    "from datetime import datetime\n",
    "\n",
    "def get_weather_data(city):\n",
    "    BASE_URL = \"http://api.openweathermap.org/data/2.5/weather?\"\n",
    "    API_KEY = open('api_key', 'r').read()\n",
    "\n",
    "    url = BASE_URL + \"appid=\" + API_KEY + \"&q=\" + city\n",
    "    response = requests.get(url).json()\n",
    "    return response\n",
    "\n",
    "def clean_and_preprocess(data):\n",
    "    cleaned_data = {}\n",
    "    \n",
    "    if data['cod'] == 200:\n",
    "        # Extract and clean relevant weather attributes\n",
    "        cleaned_data['temperature'] = data['main'].get('temp', None)\n",
    "        cleaned_data['humidity'] = data['main'].get('humidity', None)\n",
    "    else:\n",
    "        print('Error:', data.get('message', 'Unknown error'))\n",
    "\n",
    "    return cleaned_data\n",
    "\n",
    "def main():\n",
    "    CITY = \"Pune\"\n",
    "    NUM_DAYS = 5  # Number of days to analyze\n",
    "\n",
    "    data_list = []\n",
    "    for _ in range(NUM_DAYS):\n",
    "        raw_data = get_weather_data(CITY)\n",
    "        preprocessed_data = clean_and_preprocess(raw_data)\n",
    "        if preprocessed_data:\n",
    "            data_list.append(preprocessed_data)\n",
    "\n",
    "    if data_list:\n",
    "        # Prepare data for scatter plot\n",
    "        temperatures = [data.get('temperature', 0) for data in data_list]\n",
    "        humidity = [data.get('humidity', 0) for data in data_list]\n",
    "        \n",
    "        # Create a scatter plot\n",
    "        plt.figure(figsize=(8, 6))\n",
    "        sns.scatterplot(x=temperatures, y=humidity, hue=[f\"Day {i+1}\" for i in range(NUM_DAYS)])\n",
    "        plt.title('Scatter Plot: Temperature vs Humidity')\n",
    "        plt.xlabel('Temperature (K)')\n",
    "        plt.ylabel('Humidity (%)')\n",
    "        plt.legend()\n",
    "        \n",
    "        plt.show()\n",
    "\n",
    "if __name__ == \"__main__\":\n",
    "    main()\n"
   ]
  },
  {
   "cell_type": "code",
   "execution_count": null,
   "id": "ad86b994",
   "metadata": {},
   "outputs": [],
   "source": []
  }
 ],
 "metadata": {
  "kernelspec": {
   "display_name": "Python 3 (ipykernel)",
   "language": "python",
   "name": "python3"
  },
  "language_info": {
   "codemirror_mode": {
    "name": "ipython",
    "version": 3
   },
   "file_extension": ".py",
   "mimetype": "text/x-python",
   "name": "python",
   "nbconvert_exporter": "python",
   "pygments_lexer": "ipython3",
   "version": "3.9.16"
  }
 },
 "nbformat": 4,
 "nbformat_minor": 5
}
